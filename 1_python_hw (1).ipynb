{
  "cells": [
    {
      "cell_type": "markdown",
      "source": [
        "<a href=\"https://colab.research.google.com/drive/1Nx_klyuwQfMlq_v3woczmeeI3ZKiSdvY?usp=sharing\" target=\"_parent\"><img src=\"https://colab.research.google.com/assets/colab-badge.svg\" alt=\"Open In Colab\"/></a>"
      ],
      "metadata": {
        "id": "BPnoMGlR4rUB"
      }
    },
    {
      "cell_type": "markdown",
      "metadata": {
        "id": "qVrTo-LhL9eS"
      },
      "source": [
        "# Introduction"
      ]
    },
    {
      "cell_type": "markdown",
      "metadata": {
        "id": "xw8BD8v2oBGj"
      },
      "source": [
        "# Homework"
      ]
    },
    {
      "cell_type": "markdown",
      "metadata": {
        "id": "sSos7q2_oBGj"
      },
      "source": [
        "## Problem 1"
      ]
    },
    {
      "cell_type": "markdown",
      "metadata": {
        "id": "NiX8ePp0oBGk"
      },
      "source": [
        "Make a tuple containing natural numbers, the square of which is a multiple of 3, 4, but not a multiple of 8 and not exceeding 12345."
      ]
    },
    {
      "cell_type": "code",
      "execution_count": null,
      "metadata": {
        "id": "XmPHEnS9oBGk",
        "outputId": "98a3ca84-9a9a-4702-d745-8bc983e5844a",
        "colab": {
          "base_uri": "https://localhost:8080/"
        }
      },
      "outputs": [
        {
          "output_type": "execute_result",
          "data": {
            "text/plain": [
              "(6, 18, 30, 42, 54, 66, 78, 90, 102)"
            ]
          },
          "metadata": {},
          "execution_count": 46
        }
      ],
      "source": [
        "# Your solution here\n",
        "tuple(x for x in range(0, int(12345**0.5)+1) if x**2%3 == 0 and x**2%4 == 0 and x**2%8 != 0)"
      ]
    },
    {
      "cell_type": "markdown",
      "source": [
        "#Comment\n",
        "Use generatore object and tuple function to make a tuple of numbers from 0 till sqrt(12345) (due to int() function work int(12345^0.5)^2 < 12345, cause\n",
        " sqrt(12345) is not an integer and int() floors the real number to make an integer, so we add 1 to make range generate numbers from 0 to 12345 including))"
      ],
      "metadata": {
        "id": "PMwnsNHgkYux"
      }
    },
    {
      "cell_type": "markdown",
      "metadata": {
        "id": "OZBeUyxcoBGk"
      },
      "source": [
        "## Problem 2"
      ]
    },
    {
      "cell_type": "markdown",
      "metadata": {
        "id": "zIfvg22noBGk"
      },
      "source": [
        "\n",
        "Write a function that takes a two-dimensional array and a string as input and returns an array rotated 90 degrees counterclockwise if the string 'left' was passed, and clockwise if the string 'right' was passed.\n",
        "\n",
        "Example for input: $\\begin{bmatrix} 1 & 2 & 3 \\\\ 4 & 5 & 6 \\\\ 7 & 8 & 9 \\end{bmatrix}$.\\\n",
        "If the string 'left' is passed, the function should return $\\begin{bmatrix} 3 & 6 & 9 \\\\ 2 & 5 & 8 \\\\ 1 & 4 & 7 \\end{bmatrix}$, and if the string 'right' is passed, the function should return $\\begin{bmatrix} 7 & 4 & 1 \\\\ 8 & 5 & 2 \\\\ 9 & 6 & 3 \\end{bmatrix}$."
      ]
    },
    {
      "cell_type": "code",
      "execution_count": 10,
      "metadata": {
        "id": "HNvy_cRjoBGk",
        "outputId": "b8f17053-e2c6-4991-ef9b-d934850d708f",
        "colab": {
          "base_uri": "https://localhost:8080/"
        }
      },
      "outputs": [
        {
          "output_type": "stream",
          "name": "stdout",
          "text": [
            "Before:  [[1, 2, 3], [4, 5, 6], [7, 8, 9]]\n",
            "Rotate right:  [[[7, 4, 1], [8, 5, 2], [9, 6, 3]]]\n",
            "Rotate left:  [[[3, 6, 9], [2, 5, 8], [1, 4, 7]]]\n"
          ]
        }
      ],
      "source": [
        "# Your solution here\n",
        "def rotate(arr: list[list[float]], direction: str):\n",
        "  assert direction == \"right\" or direction == \"left\", \"Invalid direction\"\n",
        "  n,m = len(arr),len(arr[0]) #get dimensions\n",
        "  arr = [arr[i][j] for i in range(n) for j in range(m)] #form 1d array from 2d array\n",
        "  return [[arr[-m+i:-n*m+i-1:-m] for i in range(m)]] if direction ==\"right\" else [[arr[m-i-1::m] for i in range(m)]] #depending on the direction form the answer\n",
        "                                                                                                                     #rotate to the needed one\n",
        "\n",
        "#Usage example\n",
        "input = [[1,2,3],[4,5,6],[7,8,9]]\n",
        "print(\"Before: \", input)\n",
        "print(\"Rotate right: \", rotate(input, \"right\"))\n",
        "print(\"Rotate left: \", rotate(input, \"left\"))"
      ]
    },
    {
      "cell_type": "markdown",
      "metadata": {
        "id": "_dY-PFlCoBGk"
      },
      "source": [
        "## Problem 3"
      ]
    },
    {
      "cell_type": "markdown",
      "metadata": {
        "id": "3CaIwcm0oBGk"
      },
      "source": [
        "Write a function that takes a string as input and returns a dictionary containing the number of occurrences of each character in the string.\n",
        "\n",
        "Example for the string 'hello, world!': {'h': 1, 'e': 1, 'l': 3, 'o': 2, ',': 1, ' ': 1, 'w': 1, 'r': 1, 'd': 1, '!': 1}."
      ]
    },
    {
      "cell_type": "code",
      "execution_count": null,
      "metadata": {
        "id": "rlSbHusZoBGk",
        "outputId": "4ce4eed1-4015-42c5-a27e-ffadf22b2a26",
        "colab": {
          "base_uri": "https://localhost:8080/"
        }
      },
      "outputs": [
        {
          "output_type": "execute_result",
          "data": {
            "text/plain": [
              "{'h': 1,\n",
              " 'e': 1,\n",
              " 'l': 3,\n",
              " 'o': 2,\n",
              " ',': 1,\n",
              " ' ': 1,\n",
              " 'w': 1,\n",
              " 'r': 1,\n",
              " 'd': 1,\n",
              " '!': 1}"
            ]
          },
          "metadata": {},
          "execution_count": 108
        }
      ],
      "source": [
        "# Your solution here\n",
        "def count_letters(input: str):\n",
        "  res = dict() #dictionary for counting letters\n",
        "  for letter in input:\n",
        "    if letter in res:\n",
        "      res[letter] += 1 #if we already have this letter in a dict, increase count\n",
        "    else: res[letter] = 1 #if not make a key value pair\n",
        "  return res\n",
        "count_letters(\"hello, world!\")"
      ]
    },
    {
      "cell_type": "markdown",
      "metadata": {
        "id": "KBGJ7PeboBGk"
      },
      "source": [
        "## Problem 4"
      ]
    },
    {
      "cell_type": "markdown",
      "metadata": {
        "id": "XS4Seqa9oBGk"
      },
      "source": [
        "### Implementing a Library Management System\n",
        "\n",
        "#### Description\n",
        "\n",
        "You are required to design and implement a system for managing books and users in a library. The system should allow for the management of books (adding, deleting, searching by various criteria) and users (registration, deletion, searching), as well as tracking the history of interactions between them (issuing and returning books).\n",
        "\n",
        "#### Tasks\n",
        "\n",
        "1. **`Book` Class**:\n",
        "   - Attributes: title, author, year of publication, ISBN, number of copies.\n",
        "   - Methods: constructor, methods to get information about the book, method to change the number of copies (when issuing and returning books).\n",
        "\n",
        "2. **`User` Class**:\n",
        "   - Attributes: user name, library card number, list of borrowed books.\n",
        "   - Methods: constructor, methods for user registration, methods for adding and removing books from the borrowed list.\n",
        "\n",
        "3. **`Library` Class**:\n",
        "   - Attributes: list of books, list of users, transaction history (who, when, which book was borrowed and returned).\n",
        "   - Methods: constructor, methods for adding and deleting books and users, methods for issuing and returning books, searching for books and users by various criteria, method to display the transaction history.\n",
        "\n",
        "#### Assignment\n",
        "\n",
        "1. Implement the `Book`, `User`, and `Library` classes with the specified attributes and methods.\n",
        "2. Create several books and users, and add them to the library system.\n",
        "3. Implement scenarios for issuing books to users and their return.\n",
        "4. Display the transaction history to show how books were issued and returned.\n"
      ]
    },
    {
      "cell_type": "code",
      "execution_count": 89,
      "metadata": {
        "id": "IbqwtWWsoBGl"
      },
      "outputs": [],
      "source": [
        "# Your solution here\n",
        "#Think no comments should be made cause all is pretty simple\n",
        "import random #need this to sample card names\n",
        "class Book(object):\n",
        "  def __init__(self, title : str, author : str, year : int, ISBN : int, num_of_copies : int):\n",
        "    self.title = title\n",
        "    self.author = author\n",
        "    self.year = year\n",
        "    self.ISBN = ISBN\n",
        "    self.num_of_copies = num_of_copies\n",
        "  def get_info(self):\n",
        "    print(f\"The book {self.title} by {self.author} was published in {self.year}. ISBN is {self.ISBN}, {self.num_of_copies} copies.\")\n",
        "  def add_copies(self, num : int):\n",
        "    self.num_of_copies += num\n",
        "  def remove_copies(self, num : int):\n",
        "    self.num_of_copies -= num\n",
        "\n",
        "class User(object):\n",
        "  def __init__(self, name : str):\n",
        "    self.name = name\n",
        "    self.list_of_books = []\n",
        "  def registartion(self, new_card : int):\n",
        "    self.card = new_card\n",
        "  def add_books(self, new_books : list[str]):\n",
        "    self.list_of_books.extend(new_books)\n",
        "  def remove_books(self, returned_books : list[int]):\n",
        "    books_that_cant_be_returned = []\n",
        "    for book in returned_books:\n",
        "      if book in self.list_of_books:\n",
        "        self.list_of_books.remove(book)\n",
        "      else:\n",
        "        print(\"Sorry, but it seems, you didnt bring that book\")\n",
        "        books_that_cant_be_returned.append(book)\n",
        "    return books_that_cant_be_returned\n",
        "\n",
        "#Got tired of adding type specification\n",
        "class Library(object):\n",
        "  def __init__(self, *args):\n",
        "    if len(args) == 3:\n",
        "      self.list_of_books = args[0]\n",
        "      self.list_of_users = args[1]\n",
        "      self.transaction_history = args[2]\n",
        "      self.user_cards = dict()\n",
        "      self.user_names = dict()\n",
        "      for user in self.list_of_users:\n",
        "        self.user_cards[user.card] = user\n",
        "      for user in self.list_of_users:\n",
        "        if user.name not in self.user_names:\n",
        "          self.user_names[user.name] = [user]\n",
        "        else: self.user_names[user.names].append(user)\n",
        "    else:\n",
        "      self.list_of_books = []\n",
        "      self.list_of_users = []\n",
        "      self.transaction_history = []\n",
        "      self.user_cards = dict()\n",
        "      self.user_names = dict()\n",
        "  def add_books(self, new_books):\n",
        "    self.list_of_books.extend(new_books)\n",
        "  def add_users(self, users):\n",
        "    self.list_of_users.extend(users)\n",
        "    for user in users:\n",
        "      user.card = random.sample(list(set(range(0,999))-set(self.user_cards.keys())), 1)[0]\n",
        "      self.user_cards[user.card] = user\n",
        "      if user.name in self.user_names:\n",
        "        self.user_names[user.name].append(user)\n",
        "      else: self.user_names[user.name] = [user]\n",
        "  def remove_users(self, users):\n",
        "    for user in users:\n",
        "      self.list_of_users.remove(user)\n",
        "      self.user_cards[user.card].remove(user)\n",
        "      del self.user_cards[user.card]\n",
        "      self.user_names.remove(user.name)\n",
        "  def remove_books(self, returned_books : list[int]):\n",
        "    for book in returned_books:\n",
        "      if book in self.list_of_books:\n",
        "        self.list_of_books.remove(book)\n",
        "      else: print(\"We havnt got this book\")\n",
        "  def issue_books(self, user : User, books):\n",
        "    assert user in self.list_of_users, f\"We dont have the {user.name} in data base\"\n",
        "    user.add_books(books)\n",
        "    self.transaction_history.append((user.name, user.card, books, \"borrowed\"))\n",
        "  def return_books(self, user : User, books):\n",
        "    del_books = user.remove_books(books)\n",
        "    for book in del_books:\n",
        "      books.remove(book)\n",
        "    self.transaction_history.append((user.name, user.card, books, \"returned\"))\n",
        "  def get_history(self):\n",
        "    for operation in self.transaction_history:\n",
        "      if operation[-1] == \"borrowed\":\n",
        "        print(f\"The user {operation[0]}, card {operation[1]} borrowed books: {[book.title for book in operation[2]]}\")\n",
        "      else: print(f\"The user {operation[0]}, card {operation[1]} returned books: {[book.title for book in operation[2]]}\")\n",
        "  def search_user(self, *args):\n",
        "    #If we get two of args, we think that its name and card_num\n",
        "    if len(args) == 2:\n",
        "      #if we get two ints, consider the first one to be a card_num\n",
        "      if(type(args[0]) == int and args[0] in self.user_cards):\n",
        "        user = self.user_cards[args[0]]\n",
        "        print(f\"The user {user.name} was found\")\n",
        "        return user\n",
        "      if (type(args[1]) == int and args[1] in self.user_cards):\n",
        "        user = self.user_cards[args[1]]\n",
        "        print(f\"The user {user.name} was found\")\n",
        "        return user\n",
        "      if(type(args[0]) == str and args[0] in self.user_names):\n",
        "        users = self.user_names[args[0]]\n",
        "        print(f\"The users {[user.name for user in users]} were found, returning the first one from the list\")\n",
        "        return users[0]\n",
        "      if(type(args[1]) == str and args[1] in self.user_names):\n",
        "        users = self.user_names[args[0]]\n",
        "        print(f\"The users {[user.name for user in users]} were found, returning the first one from the list\")\n",
        "        return users[1]\n",
        "    if len(args)==1:\n",
        "      if(type(args[0]) == int and args[0] in self.user_cards):\n",
        "        user = self.user_cards[args[0]]\n",
        "        print(f\"The user {user.name} was found\")\n",
        "        return user\n",
        "      if(type(args[0]) == str and args[0] in self.user_names):\n",
        "        users = self.user_names[args[0]]\n",
        "        print(f\"The users {[user.name for user in users]} were found, returning the first one from the list\")\n",
        "        return users[0]\n",
        "    print(\"We cant find the user\")"
      ]
    },
    {
      "cell_type": "code",
      "source": [
        "#make books\n",
        "book1 = Book(\"Gray book\", \"Mr.Grey\", 1999, 189908, 1000)\n",
        "book2 = Book(\"White book\", \"Mr.White\", 2011, 203456, 1500)\n",
        "book3 = Book(\"Red book\", \"Mr.Red\", 1890, 109834, 2000)\n",
        "\n",
        "#make users\n",
        "user1 = User(\"Son of Mr.White\")\n",
        "user2 = User(\"Son of Mr.Gray\")\n",
        "user3 = User(\"Son of Mr.Black\")\n",
        "#make Library\n",
        "library = Library()\n",
        "\n",
        "#added books, users\n",
        "library.add_books([book1, book2, book3])\n",
        "library.add_users([user1, user2])\n",
        "\n",
        "#issued and returned books\n",
        "library.issue_books(user1, [book1, book3])\n",
        "library.return_books(user1, [book1, book3])\n",
        "library.issue_books(user2, [book1])\n",
        "\n",
        "library.get_history()"
      ],
      "metadata": {
        "colab": {
          "base_uri": "https://localhost:8080/"
        },
        "id": "5kP5MkAw0eko",
        "outputId": "5f3cb13c-48a9-4f88-ecd7-e1a19feb5992"
      },
      "execution_count": 90,
      "outputs": [
        {
          "output_type": "stream",
          "name": "stdout",
          "text": [
            "The user Son of Mr.White, card 873 borrowed books: ['Gray book', 'Red book']\n",
            "The user Son of Mr.White, card 873 returned books: ['Gray book', 'Red book']\n",
            "The user Son of Mr.Gray, card 851 borrowed books: ['Gray book']\n"
          ]
        }
      ]
    },
    {
      "cell_type": "code",
      "source": [
        "#Try to issue book to unregistrated user, get an error\n",
        "library.issue_books(user3, [book1, book3])"
      ],
      "metadata": {
        "colab": {
          "base_uri": "https://localhost:8080/",
          "height": 280
        },
        "id": "UkDRJW111OR_",
        "outputId": "79931537-459d-4541-c244-d9314c9dd954"
      },
      "execution_count": 91,
      "outputs": [
        {
          "output_type": "error",
          "ename": "AssertionError",
          "evalue": "We dont have the Son of Mr.Black in data base",
          "traceback": [
            "\u001b[0;31m---------------------------------------------------------------------------\u001b[0m",
            "\u001b[0;31mAssertionError\u001b[0m                            Traceback (most recent call last)",
            "\u001b[0;32m<ipython-input-91-26db118cbf2b>\u001b[0m in \u001b[0;36m<cell line: 0>\u001b[0;34m()\u001b[0m\n\u001b[1;32m      1\u001b[0m \u001b[0;31m#Try to issue book to unregistrated user, get an error\u001b[0m\u001b[0;34m\u001b[0m\u001b[0;34m\u001b[0m\u001b[0m\n\u001b[0;32m----> 2\u001b[0;31m \u001b[0mlibrary\u001b[0m\u001b[0;34m.\u001b[0m\u001b[0missue_books\u001b[0m\u001b[0;34m(\u001b[0m\u001b[0muser3\u001b[0m\u001b[0;34m,\u001b[0m \u001b[0;34m[\u001b[0m\u001b[0mbook1\u001b[0m\u001b[0;34m,\u001b[0m \u001b[0mbook3\u001b[0m\u001b[0;34m]\u001b[0m\u001b[0;34m)\u001b[0m\u001b[0;34m\u001b[0m\u001b[0;34m\u001b[0m\u001b[0m\n\u001b[0m",
            "\u001b[0;32m<ipython-input-89-701b447d422b>\u001b[0m in \u001b[0;36missue_books\u001b[0;34m(self, user, books)\u001b[0m\n\u001b[1;32m     77\u001b[0m       \u001b[0;32melse\u001b[0m\u001b[0;34m:\u001b[0m \u001b[0mprint\u001b[0m\u001b[0;34m(\u001b[0m\u001b[0;34m\"We havnt got this book\"\u001b[0m\u001b[0;34m)\u001b[0m\u001b[0;34m\u001b[0m\u001b[0;34m\u001b[0m\u001b[0m\n\u001b[1;32m     78\u001b[0m   \u001b[0;32mdef\u001b[0m \u001b[0missue_books\u001b[0m\u001b[0;34m(\u001b[0m\u001b[0mself\u001b[0m\u001b[0;34m,\u001b[0m \u001b[0muser\u001b[0m \u001b[0;34m:\u001b[0m \u001b[0mUser\u001b[0m\u001b[0;34m,\u001b[0m \u001b[0mbooks\u001b[0m\u001b[0;34m)\u001b[0m\u001b[0;34m:\u001b[0m\u001b[0;34m\u001b[0m\u001b[0;34m\u001b[0m\u001b[0m\n\u001b[0;32m---> 79\u001b[0;31m     \u001b[0;32massert\u001b[0m \u001b[0muser\u001b[0m \u001b[0;32min\u001b[0m \u001b[0mself\u001b[0m\u001b[0;34m.\u001b[0m\u001b[0mlist_of_users\u001b[0m\u001b[0;34m,\u001b[0m \u001b[0;34mf\"We dont have the {user.name} in data base\"\u001b[0m\u001b[0;34m\u001b[0m\u001b[0;34m\u001b[0m\u001b[0m\n\u001b[0m\u001b[1;32m     80\u001b[0m     \u001b[0muser\u001b[0m\u001b[0;34m.\u001b[0m\u001b[0madd_books\u001b[0m\u001b[0;34m(\u001b[0m\u001b[0mbooks\u001b[0m\u001b[0;34m)\u001b[0m\u001b[0;34m\u001b[0m\u001b[0;34m\u001b[0m\u001b[0m\n\u001b[1;32m     81\u001b[0m     \u001b[0mself\u001b[0m\u001b[0;34m.\u001b[0m\u001b[0mtransaction_history\u001b[0m\u001b[0;34m.\u001b[0m\u001b[0mappend\u001b[0m\u001b[0;34m(\u001b[0m\u001b[0;34m(\u001b[0m\u001b[0muser\u001b[0m\u001b[0;34m.\u001b[0m\u001b[0mname\u001b[0m\u001b[0;34m,\u001b[0m \u001b[0muser\u001b[0m\u001b[0;34m.\u001b[0m\u001b[0mcard\u001b[0m\u001b[0;34m,\u001b[0m \u001b[0mbooks\u001b[0m\u001b[0;34m,\u001b[0m \u001b[0;34m\"borrowed\"\u001b[0m\u001b[0;34m)\u001b[0m\u001b[0;34m)\u001b[0m\u001b[0;34m\u001b[0m\u001b[0;34m\u001b[0m\u001b[0m\n",
            "\u001b[0;31mAssertionError\u001b[0m: We dont have the Son of Mr.Black in data base"
          ]
        }
      ]
    },
    {
      "cell_type": "code",
      "source": [
        "#search users in all possible ways\n",
        "library.search_user(\"Son of Mr.White\")\n",
        "library.search_user(873)\n",
        "library.search_user(\"Son of Mr.White\", 873)\n",
        "library.search_user(873, \"Son of Mr.White\")\n",
        "library.search_user(9999999999)"
      ],
      "metadata": {
        "colab": {
          "base_uri": "https://localhost:8080/"
        },
        "id": "HCKu1smn1cQY",
        "outputId": "b79e8821-2bc9-405f-d995-6446446910de"
      },
      "execution_count": 92,
      "outputs": [
        {
          "output_type": "stream",
          "name": "stdout",
          "text": [
            "The users ['Son of Mr.White'] were found, returning the first one from the list\n",
            "The user Son of Mr.White was found\n",
            "The user Son of Mr.White was found\n",
            "The user Son of Mr.White was found\n",
            "We cant find the user\n"
          ]
        }
      ]
    },
    {
      "cell_type": "markdown",
      "metadata": {
        "id": "0c8zRbSIoBGl"
      },
      "source": [
        "## Problem 5*"
      ]
    },
    {
      "cell_type": "markdown",
      "metadata": {
        "id": "8ltdzRmOoBGl"
      },
      "source": [
        "Explain why list `b` changes after the execution of the following code:\n",
        "\n",
        "```python\n",
        "a = [1, 2, 3]\n",
        "b = a\n",
        "a[0] = 4\n",
        "print(b)\n",
        "```"
      ]
    },
    {
      "cell_type": "code",
      "source": [
        "a = [1, 2, 3]\n",
        "b = a\n",
        "a[0] = 4\n",
        "print(b)"
      ],
      "metadata": {
        "id": "IhlV8Oug7ZLN",
        "outputId": "e77f3b09-f9de-470b-8a77-bc597e622133",
        "colab": {
          "base_uri": "https://localhost:8080/"
        }
      },
      "execution_count": null,
      "outputs": [
        {
          "output_type": "stream",
          "name": "stdout",
          "text": [
            "[4, 2, 3]\n"
          ]
        }
      ]
    },
    {
      "cell_type": "markdown",
      "metadata": {
        "id": "RxgnUfFPoBGl"
      },
      "source": [
        "> Write your answer in markdown cell after:"
      ]
    },
    {
      "cell_type": "markdown",
      "metadata": {
        "id": "Mb-amOX5oBGl"
      },
      "source": [
        "When we print b = a, we dont make another array in computers memory, we just add another name for the same array.\n",
        "\n",
        "To really make a copy and be able to change a or b without changes in other array, we should print b = a.copy() or use deep copy if a consists of more lists inside."
      ]
    },
    {
      "cell_type": "markdown",
      "metadata": {
        "id": "TmXLkc_foBGl"
      },
      "source": [
        "## Problem 6*"
      ]
    },
    {
      "cell_type": "markdown",
      "metadata": {
        "id": "Gn0ibiVCoBGl"
      },
      "source": [
        "Let\n",
        "$$A = \\sum_{i=1}^{10000} \\frac{1}{i^2},\\quad B=\\sum_{i=10000}^{1} \\frac{1}{i^2}.$$\n",
        "Calculate the values of $A$ and $B$ and compare them. What do you observe? Explain why this happens. What is the best way to calculate the value of $\\sum\\limits_{i=1}^{10000} \\dfrac{1}{i^2}$?"
      ]
    },
    {
      "cell_type": "code",
      "execution_count": null,
      "metadata": {
        "id": "3q93uGqFoBGl",
        "outputId": "574b59c4-b837-4521-a6cb-3497f01553fc",
        "colab": {
          "base_uri": "https://localhost:8080/"
        }
      },
      "outputs": [
        {
          "output_type": "stream",
          "name": "stdout",
          "text": [
            "Not precise:  1.6448340718480652 | The precise one:  1.6448340718480596\n"
          ]
        }
      ],
      "source": [
        "# Your solution here\n",
        "A = sum([1/i**2 for i in range(1, 10001)])\n",
        "B = sum([1/i**2 for i in range(10000, 0, -1)])\n",
        "\"\"\"\n",
        "Here we have two different results due to the way computer keeps float numbers:\n",
        "if we try 1.0+2.0, the error would be about 1e-16\n",
        "but if we do the same with 1000.0+2000.0 the error would be about 1e-13\n",
        "so its better to start the summation with smaller numbers and more precise answer will be B\n",
        "\"\"\"\n",
        "print(\"Not precise: \", A, \"|\",\"The precise one: \", B)"
      ]
    },
    {
      "cell_type": "code",
      "source": [
        "float(1e-16+1) == float(1), float((1e-16+1)*1000) == float(1*1000)"
      ],
      "metadata": {
        "id": "Qr5Dbt6KJx2w",
        "outputId": "0b7c31c4-673e-434d-a4d7-d55f21539718",
        "colab": {
          "base_uri": "https://localhost:8080/"
        }
      },
      "execution_count": null,
      "outputs": [
        {
          "output_type": "execute_result",
          "data": {
            "text/plain": [
              "(True, True)"
            ]
          },
          "metadata": {},
          "execution_count": 47
        }
      ]
    }
  ],
  "metadata": {
    "colab": {
      "provenance": []
    },
    "kernelspec": {
      "display_name": "Python 3",
      "language": "python",
      "name": "python3"
    },
    "language_info": {
      "codemirror_mode": {
        "name": "ipython",
        "version": 3
      },
      "file_extension": ".py",
      "mimetype": "text/x-python",
      "name": "python",
      "nbconvert_exporter": "python",
      "pygments_lexer": "ipython3",
      "version": "3.10.6"
    }
  },
  "nbformat": 4,
  "nbformat_minor": 0
}